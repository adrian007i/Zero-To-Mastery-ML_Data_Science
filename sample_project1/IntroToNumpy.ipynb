{
 "cells": [
  {
   "cell_type": "code",
   "execution_count": 2,
   "id": "aad4932a-921a-4d3f-b7d5-077f38703da3",
   "metadata": {},
   "outputs": [],
   "source": [
    "import numpy as np"
   ]
  },
  {
   "cell_type": "code",
   "execution_count": 3,
   "id": "39738692-01f2-453c-bd7c-e57ed9648d55",
   "metadata": {},
   "outputs": [
    {
     "data": {
      "text/plain": [
       "array([1, 2, 3])"
      ]
     },
     "execution_count": 3,
     "metadata": {},
     "output_type": "execute_result"
    }
   ],
   "source": [
    "a1 = np.array([1,2,3])\n",
    "a1"
   ]
  },
  {
   "cell_type": "code",
   "execution_count": 4,
   "id": "b2933eb5-49f0-49ad-b989-bc5764de9963",
   "metadata": {},
   "outputs": [
    {
     "data": {
      "text/plain": [
       "numpy.ndarray"
      ]
     },
     "execution_count": 4,
     "metadata": {},
     "output_type": "execute_result"
    }
   ],
   "source": [
    "type(a1)"
   ]
  },
  {
   "cell_type": "code",
   "execution_count": 5,
   "id": "1315af4d-427e-4652-8eb6-c67c3346f8b2",
   "metadata": {},
   "outputs": [
    {
     "data": {
      "text/plain": [
       "(3,)"
      ]
     },
     "execution_count": 5,
     "metadata": {},
     "output_type": "execute_result"
    }
   ],
   "source": [
    "a1.shape"
   ]
  },
  {
   "cell_type": "code",
   "execution_count": 6,
   "id": "ba4fb696-28a3-4e94-8cc9-50d26ff2748c",
   "metadata": {},
   "outputs": [
    {
     "data": {
      "text/plain": [
       "array([[1, 2],\n",
       "       [2, 4]])"
      ]
     },
     "execution_count": 6,
     "metadata": {},
     "output_type": "execute_result"
    }
   ],
   "source": [
    "a2 = np.array([\n",
    "    [1, 2],\n",
    "    [2, 4]\n",
    "])\n",
    "\n",
    "a2"
   ]
  },
  {
   "cell_type": "code",
   "execution_count": 7,
   "id": "55aabb78-1728-4fb8-8817-4156c132bbcc",
   "metadata": {},
   "outputs": [
    {
     "data": {
      "text/plain": [
       "(2, 2)"
      ]
     },
     "execution_count": 7,
     "metadata": {},
     "output_type": "execute_result"
    }
   ],
   "source": [
    "a2.shape"
   ]
  },
  {
   "cell_type": "code",
   "execution_count": 8,
   "id": "e5ff51a2-6960-40d0-93e9-29393428c3dd",
   "metadata": {},
   "outputs": [
    {
     "data": {
      "text/plain": [
       "(5, 3, 2)"
      ]
     },
     "execution_count": 8,
     "metadata": {},
     "output_type": "execute_result"
    }
   ],
   "source": [
    "a3 = np.array([\n",
    "    [[1, 2], [3, 4] , [3, 4]],\n",
    "    [[5, 6], [7, 8] , [3, 4]] ,\n",
    "    [[5, 6], [7, 8] , [3, 4]] ,\n",
    "    [[5, 6], [7, 8] , [3, 4]] ,\n",
    "    [[5, 6], [7, 8] , [3, 4]] \n",
    "])\n",
    "\n",
    "# axis 1 -  row\n",
    "# axis 2 - column\n",
    "# axis 3 - dimentions\n",
    "\n",
    "\n",
    "a3.shape"
   ]
  },
  {
   "cell_type": "code",
   "execution_count": 9,
   "id": "77a77b89-cdf3-43d6-944d-5919ae454e3b",
   "metadata": {},
   "outputs": [
    {
     "data": {
      "text/plain": [
       "dtype('int32')"
      ]
     },
     "execution_count": 9,
     "metadata": {},
     "output_type": "execute_result"
    }
   ],
   "source": [
    "a2.dtype"
   ]
  },
  {
   "cell_type": "code",
   "execution_count": 10,
   "id": "365a9da1-7036-4514-98b6-76ddb3e58742",
   "metadata": {},
   "outputs": [
    {
     "data": {
      "text/plain": [
       "30"
      ]
     },
     "execution_count": 10,
     "metadata": {},
     "output_type": "execute_result"
    }
   ],
   "source": [
    "a3.size"
   ]
  },
  {
   "cell_type": "code",
   "execution_count": 11,
   "id": "f2fe89ce-ade7-494a-9427-831ca2ee4add",
   "metadata": {},
   "outputs": [
    {
     "data": {
      "text/html": [
       "<div>\n",
       "<style scoped>\n",
       "    .dataframe tbody tr th:only-of-type {\n",
       "        vertical-align: middle;\n",
       "    }\n",
       "\n",
       "    .dataframe tbody tr th {\n",
       "        vertical-align: top;\n",
       "    }\n",
       "\n",
       "    .dataframe thead th {\n",
       "        text-align: right;\n",
       "    }\n",
       "</style>\n",
       "<table border=\"1\" class=\"dataframe\">\n",
       "  <thead>\n",
       "    <tr style=\"text-align: right;\">\n",
       "      <th></th>\n",
       "      <th>0</th>\n",
       "      <th>1</th>\n",
       "    </tr>\n",
       "  </thead>\n",
       "  <tbody>\n",
       "    <tr>\n",
       "      <th>0</th>\n",
       "      <td>1</td>\n",
       "      <td>2</td>\n",
       "    </tr>\n",
       "    <tr>\n",
       "      <th>1</th>\n",
       "      <td>2</td>\n",
       "      <td>4</td>\n",
       "    </tr>\n",
       "  </tbody>\n",
       "</table>\n",
       "</div>"
      ],
      "text/plain": [
       "   0  1\n",
       "0  1  2\n",
       "1  2  4"
      ]
     },
     "execution_count": 11,
     "metadata": {},
     "output_type": "execute_result"
    }
   ],
   "source": [
    "import pandas as pd\n",
    "\n",
    "df = pd.DataFrame(a2)\n",
    "df"
   ]
  },
  {
   "cell_type": "code",
   "execution_count": 12,
   "id": "fe043d7a-2aac-4a52-aa52-1bc7d29e03ba",
   "metadata": {},
   "outputs": [
    {
     "data": {
      "text/plain": [
       "array([[1., 1., 1.],\n",
       "       [1., 1., 1.]])"
      ]
     },
     "execution_count": 12,
     "metadata": {},
     "output_type": "execute_result"
    }
   ],
   "source": [
    "ones = np.ones((2,3))\n",
    "ones"
   ]
  },
  {
   "cell_type": "code",
   "execution_count": 13,
   "id": "396daf09-6275-4f62-8864-18c9ca363e28",
   "metadata": {},
   "outputs": [
    {
     "data": {
      "text/plain": [
       "array([[0., 0., 0.],\n",
       "       [0., 0., 0.]])"
      ]
     },
     "execution_count": 13,
     "metadata": {},
     "output_type": "execute_result"
    }
   ],
   "source": [
    "zeros = np.zeros((2,3))\n",
    "zeros"
   ]
  },
  {
   "cell_type": "code",
   "execution_count": 14,
   "id": "563bd588-9e5e-48d5-b1aa-4d6d92d80a5a",
   "metadata": {},
   "outputs": [
    {
     "data": {
      "text/plain": [
       "array([0, 2, 4, 6, 8])"
      ]
     },
     "execution_count": 14,
     "metadata": {},
     "output_type": "execute_result"
    }
   ],
   "source": [
    "range = np.arange(0, 10, 2)\n",
    "range"
   ]
  },
  {
   "cell_type": "code",
   "execution_count": 15,
   "id": "3e8c2253-6ae2-4b36-9712-a1a8493ae882",
   "metadata": {},
   "outputs": [
    {
     "data": {
      "text/plain": [
       "array([[[143, 141, 162, 169, 155],\n",
       "        [116, 138, 104, 174, 102],\n",
       "        [171, 130, 123, 100, 192],\n",
       "        [180, 125, 187, 159, 183],\n",
       "        [190, 119, 137, 160, 134]],\n",
       "\n",
       "       [[103, 153, 122, 131, 174],\n",
       "        [179, 134, 187, 110, 183],\n",
       "        [174, 195, 155, 111, 181],\n",
       "        [102, 170, 141, 110, 182],\n",
       "        [129, 139, 147, 189, 110]],\n",
       "\n",
       "       [[127, 149, 149, 177, 123],\n",
       "        [150, 111, 168, 142, 145],\n",
       "        [153, 126, 129, 184, 148],\n",
       "        [121, 133, 136, 167, 136],\n",
       "        [115, 161, 128, 169, 104]],\n",
       "\n",
       "       [[135, 125, 170, 192, 170],\n",
       "        [189, 117, 187, 126, 108],\n",
       "        [106, 105, 162, 158, 136],\n",
       "        [170, 134, 186, 190, 136],\n",
       "        [104, 112, 157, 155, 180]],\n",
       "\n",
       "       [[181, 127, 143, 155, 185],\n",
       "        [127, 120, 154, 150, 109],\n",
       "        [108, 124, 131, 194, 161],\n",
       "        [116, 108, 111, 144, 137],\n",
       "        [169, 193, 141, 177, 134]]])"
      ]
     },
     "execution_count": 15,
     "metadata": {},
     "output_type": "execute_result"
    }
   ],
   "source": [
    "rand = np.random.randint(100, 200, size= (5,5,5))\n",
    "rand"
   ]
  },
  {
   "cell_type": "code",
   "execution_count": 27,
   "id": "be21f192-2b99-46a9-abfd-9968c085110d",
   "metadata": {},
   "outputs": [
    {
     "data": {
      "text/plain": [
       "array([[2, 4, 2],\n",
       "       [1, 2, 1],\n",
       "       [3, 1, 2],\n",
       "       [1, 2, 4],\n",
       "       [3, 4, 4]])"
      ]
     },
     "execution_count": 27,
     "metadata": {},
     "output_type": "execute_result"
    }
   ],
   "source": [
    "# rand.see is psudo-random give the same random value, making it reproducable\n",
    "np.random.seed(seed=99)\n",
    "\n",
    "rand_seed = np.random.randint(1, 5, size= (5,3))\n",
    "rand_seed"
   ]
  },
  {
   "cell_type": "code",
   "execution_count": 31,
   "id": "e3dd20ae-7754-4b30-ae36-3586c57683b7",
   "metadata": {},
   "outputs": [
    {
     "data": {
      "text/plain": [
       "array([1, 2, 3])"
      ]
     },
     "execution_count": 31,
     "metadata": {},
     "output_type": "execute_result"
    }
   ],
   "source": [
    "a1 = np.array([1,2,3,3])\n",
    "a1 = np.unique(a1)\n",
    "a1"
   ]
  },
  {
   "cell_type": "code",
   "execution_count": 34,
   "id": "de5487c6-d737-4419-9338-6b4d30571fd9",
   "metadata": {},
   "outputs": [
    {
     "data": {
      "text/plain": [
       "array([[[[3, 3, 6, 1, 0],\n",
       "         [9, 2, 4, 4, 3],\n",
       "         [3, 7, 7, 6, 1],\n",
       "         [0, 5, 3, 4, 7]],\n",
       "\n",
       "        [[9, 4, 0, 8, 4],\n",
       "         [6, 8, 4, 3, 6],\n",
       "         [2, 7, 8, 1, 9],\n",
       "         [8, 4, 7, 4, 5]],\n",
       "\n",
       "        [[4, 9, 3, 6, 8],\n",
       "         [9, 8, 4, 4, 5],\n",
       "         [3, 6, 6, 9, 8],\n",
       "         [1, 9, 5, 0, 4]]],\n",
       "\n",
       "\n",
       "       [[[5, 8, 5, 8, 3],\n",
       "         [1, 7, 1, 5, 6],\n",
       "         [4, 0, 3, 0, 2],\n",
       "         [5, 8, 2, 6, 8]],\n",
       "\n",
       "        [[8, 9, 1, 8, 1],\n",
       "         [8, 3, 2, 8, 4],\n",
       "         [9, 2, 2, 1, 4],\n",
       "         [1, 3, 3, 8, 8]],\n",
       "\n",
       "        [[6, 1, 3, 9, 4],\n",
       "         [5, 7, 3, 8, 2],\n",
       "         [5, 7, 9, 0, 5],\n",
       "         [5, 4, 4, 3, 4]]]])"
      ]
     },
     "execution_count": 34,
     "metadata": {},
     "output_type": "execute_result"
    }
   ],
   "source": [
    "a100 = np.random.randint(10, size=(2,3,4,5))\n",
    "a100"
   ]
  },
  {
   "cell_type": "code",
   "execution_count": 46,
   "id": "b0c3c491-5d37-4818-8662-8a0aeb7fbb6a",
   "metadata": {},
   "outputs": [
    {
     "data": {
      "text/plain": [
       "array([[[[3, 3, 6],\n",
       "         [9, 2, 4],\n",
       "         [3, 7, 7],\n",
       "         [0, 5, 3]],\n",
       "\n",
       "        [[9, 4, 0],\n",
       "         [6, 8, 4],\n",
       "         [2, 7, 8],\n",
       "         [8, 4, 7]],\n",
       "\n",
       "        [[4, 9, 3],\n",
       "         [9, 8, 4],\n",
       "         [3, 6, 6],\n",
       "         [1, 9, 5]]],\n",
       "\n",
       "\n",
       "       [[[5, 8, 5],\n",
       "         [1, 7, 1],\n",
       "         [4, 0, 3],\n",
       "         [5, 8, 2]],\n",
       "\n",
       "        [[8, 9, 1],\n",
       "         [8, 3, 2],\n",
       "         [9, 2, 2],\n",
       "         [1, 3, 3]],\n",
       "\n",
       "        [[6, 1, 3],\n",
       "         [5, 7, 3],\n",
       "         [5, 7, 9],\n",
       "         [5, 4, 4]]]])"
      ]
     },
     "execution_count": 46,
     "metadata": {},
     "output_type": "execute_result"
    }
   ],
   "source": [
    "# get the first 4 numbers of the inner most array\n",
    "a100[:2,:,:, :3]"
   ]
  },
  {
   "cell_type": "markdown",
   "id": "5f33cc5b-7a21-4c98-83f6-0e42abc6a2b4",
   "metadata": {},
   "source": [
    "# Maniuplating arrays"
   ]
  },
  {
   "cell_type": "code",
   "execution_count": 58,
   "id": "9ea47d1e-e224-4881-abe1-c786611c4a8f",
   "metadata": {},
   "outputs": [
    {
     "data": {
      "text/plain": [
       "array([1., 1., 1.])"
      ]
     },
     "execution_count": 58,
     "metadata": {},
     "output_type": "execute_result"
    }
   ],
   "source": [
    "ones = np.ones(3)\n",
    "ones"
   ]
  },
  {
   "cell_type": "code",
   "execution_count": 59,
   "id": "1c94fdbc-a1ce-4c53-8bd5-49947bc27b66",
   "metadata": {},
   "outputs": [
    {
     "data": {
      "text/plain": [
       "array([1., 1., 1.])"
      ]
     },
     "execution_count": 59,
     "metadata": {},
     "output_type": "execute_result"
    }
   ],
   "source": [
    "ones = np.ones(3)\n",
    "ones"
   ]
  },
  {
   "cell_type": "code",
   "execution_count": 60,
   "id": "94f53f09-183d-4d2b-89de-5844ef029dfe",
   "metadata": {},
   "outputs": [
    {
     "data": {
      "text/plain": [
       "array([[1, 2, 2]])"
      ]
     },
     "execution_count": 60,
     "metadata": {},
     "output_type": "execute_result"
    }
   ],
   "source": [
    "rands = np.random.randint(1,3, size=(1,3))\n",
    "rands"
   ]
  },
  {
   "cell_type": "code",
   "execution_count": 63,
   "id": "fc42cc79-b0fe-4c9f-8c4c-a6d85c792de5",
   "metadata": {},
   "outputs": [
    {
     "data": {
      "text/plain": [
       "array([[2., 3., 3.]])"
      ]
     },
     "execution_count": 63,
     "metadata": {},
     "output_type": "execute_result"
    }
   ],
   "source": [
    "np.add(ones, rands)"
   ]
  },
  {
   "cell_type": "code",
   "execution_count": 61,
   "id": "5d4903c1-f472-4185-966f-9e005a8c6b4a",
   "metadata": {},
   "outputs": [
    {
     "data": {
      "text/plain": [
       "array([[2., 3., 3.]])"
      ]
     },
     "execution_count": 61,
     "metadata": {},
     "output_type": "execute_result"
    }
   ],
   "source": [
    "ones + rands"
   ]
  },
  {
   "cell_type": "code",
   "execution_count": 62,
   "id": "7267acbf-f2bb-410a-a014-f4ab41de9e57",
   "metadata": {},
   "outputs": [
    {
     "data": {
      "text/plain": [
       "array([[ 0., -1., -1.]])"
      ]
     },
     "execution_count": 62,
     "metadata": {},
     "output_type": "execute_result"
    }
   ],
   "source": [
    "ones - rands"
   ]
  }
 ],
 "metadata": {
  "kernelspec": {
   "display_name": "Python 3 (ipykernel)",
   "language": "python",
   "name": "python3"
  },
  "language_info": {
   "codemirror_mode": {
    "name": "ipython",
    "version": 3
   },
   "file_extension": ".py",
   "mimetype": "text/x-python",
   "name": "python",
   "nbconvert_exporter": "python",
   "pygments_lexer": "ipython3",
   "version": "3.12.2"
  }
 },
 "nbformat": 4,
 "nbformat_minor": 5
}
