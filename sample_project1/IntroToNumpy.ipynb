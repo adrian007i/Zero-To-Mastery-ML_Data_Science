{
 "cells": [
  {
   "cell_type": "code",
   "execution_count": 1,
   "id": "aad4932a-921a-4d3f-b7d5-077f38703da3",
   "metadata": {},
   "outputs": [],
   "source": [
    "import numpy as np"
   ]
  },
  {
   "cell_type": "code",
   "execution_count": 2,
   "id": "39738692-01f2-453c-bd7c-e57ed9648d55",
   "metadata": {},
   "outputs": [
    {
     "data": {
      "text/plain": [
       "array([1, 2, 3])"
      ]
     },
     "execution_count": 2,
     "metadata": {},
     "output_type": "execute_result"
    }
   ],
   "source": [
    "a1 = np.array([1,2,3])\n",
    "a1"
   ]
  },
  {
   "cell_type": "code",
   "execution_count": 3,
   "id": "b2933eb5-49f0-49ad-b989-bc5764de9963",
   "metadata": {},
   "outputs": [
    {
     "data": {
      "text/plain": [
       "numpy.ndarray"
      ]
     },
     "execution_count": 3,
     "metadata": {},
     "output_type": "execute_result"
    }
   ],
   "source": [
    "type(a1)"
   ]
  },
  {
   "cell_type": "code",
   "execution_count": 4,
   "id": "1315af4d-427e-4652-8eb6-c67c3346f8b2",
   "metadata": {},
   "outputs": [
    {
     "data": {
      "text/plain": [
       "(3,)"
      ]
     },
     "execution_count": 4,
     "metadata": {},
     "output_type": "execute_result"
    }
   ],
   "source": [
    "a1.shape"
   ]
  },
  {
   "cell_type": "code",
   "execution_count": 5,
   "id": "ba4fb696-28a3-4e94-8cc9-50d26ff2748c",
   "metadata": {},
   "outputs": [
    {
     "data": {
      "text/plain": [
       "array([[1, 2],\n",
       "       [2, 4]])"
      ]
     },
     "execution_count": 5,
     "metadata": {},
     "output_type": "execute_result"
    }
   ],
   "source": [
    "a2 = np.array([\n",
    "    [1, 2],\n",
    "    [2, 4]\n",
    "])\n",
    "\n",
    "a2"
   ]
  },
  {
   "cell_type": "code",
   "execution_count": 6,
   "id": "55aabb78-1728-4fb8-8817-4156c132bbcc",
   "metadata": {},
   "outputs": [
    {
     "data": {
      "text/plain": [
       "(2, 2)"
      ]
     },
     "execution_count": 6,
     "metadata": {},
     "output_type": "execute_result"
    }
   ],
   "source": [
    "a2.shape"
   ]
  },
  {
   "cell_type": "code",
   "execution_count": 7,
   "id": "e5ff51a2-6960-40d0-93e9-29393428c3dd",
   "metadata": {},
   "outputs": [
    {
     "data": {
      "text/plain": [
       "(5, 3, 2)"
      ]
     },
     "execution_count": 7,
     "metadata": {},
     "output_type": "execute_result"
    }
   ],
   "source": [
    "a3 = np.array([\n",
    "    [[1, 2], [3, 4] , [3, 4]],\n",
    "    [[5, 6], [7, 8] , [3, 4]] ,\n",
    "    [[5, 6], [7, 8] , [3, 4]] ,\n",
    "    [[5, 6], [7, 8] , [3, 4]] ,\n",
    "    [[5, 6], [7, 8] , [3, 4]] \n",
    "])\n",
    "\n",
    "# axis 1 -  row\n",
    "# axis 2 - column\n",
    "# axis 3 - dimentions\n",
    "\n",
    "\n",
    "a3.shape"
   ]
  },
  {
   "cell_type": "code",
   "execution_count": 8,
   "id": "77a77b89-cdf3-43d6-944d-5919ae454e3b",
   "metadata": {},
   "outputs": [
    {
     "data": {
      "text/plain": [
       "dtype('int32')"
      ]
     },
     "execution_count": 8,
     "metadata": {},
     "output_type": "execute_result"
    }
   ],
   "source": [
    "a2.dtype"
   ]
  },
  {
   "cell_type": "code",
   "execution_count": 9,
   "id": "365a9da1-7036-4514-98b6-76ddb3e58742",
   "metadata": {},
   "outputs": [
    {
     "data": {
      "text/plain": [
       "30"
      ]
     },
     "execution_count": 9,
     "metadata": {},
     "output_type": "execute_result"
    }
   ],
   "source": [
    "a3.size"
   ]
  },
  {
   "cell_type": "code",
   "execution_count": 10,
   "id": "f2fe89ce-ade7-494a-9427-831ca2ee4add",
   "metadata": {},
   "outputs": [
    {
     "data": {
      "text/html": [
       "<div>\n",
       "<style scoped>\n",
       "    .dataframe tbody tr th:only-of-type {\n",
       "        vertical-align: middle;\n",
       "    }\n",
       "\n",
       "    .dataframe tbody tr th {\n",
       "        vertical-align: top;\n",
       "    }\n",
       "\n",
       "    .dataframe thead th {\n",
       "        text-align: right;\n",
       "    }\n",
       "</style>\n",
       "<table border=\"1\" class=\"dataframe\">\n",
       "  <thead>\n",
       "    <tr style=\"text-align: right;\">\n",
       "      <th></th>\n",
       "      <th>0</th>\n",
       "      <th>1</th>\n",
       "    </tr>\n",
       "  </thead>\n",
       "  <tbody>\n",
       "    <tr>\n",
       "      <th>0</th>\n",
       "      <td>1</td>\n",
       "      <td>2</td>\n",
       "    </tr>\n",
       "    <tr>\n",
       "      <th>1</th>\n",
       "      <td>2</td>\n",
       "      <td>4</td>\n",
       "    </tr>\n",
       "  </tbody>\n",
       "</table>\n",
       "</div>"
      ],
      "text/plain": [
       "   0  1\n",
       "0  1  2\n",
       "1  2  4"
      ]
     },
     "execution_count": 10,
     "metadata": {},
     "output_type": "execute_result"
    }
   ],
   "source": [
    "import pandas as pd\n",
    "\n",
    "df = pd.DataFrame(a2)\n",
    "df"
   ]
  },
  {
   "cell_type": "code",
   "execution_count": 11,
   "id": "fe043d7a-2aac-4a52-aa52-1bc7d29e03ba",
   "metadata": {},
   "outputs": [
    {
     "data": {
      "text/plain": [
       "array([[1., 1., 1.],\n",
       "       [1., 1., 1.]])"
      ]
     },
     "execution_count": 11,
     "metadata": {},
     "output_type": "execute_result"
    }
   ],
   "source": [
    "ones = np.ones((2,3))\n",
    "ones"
   ]
  },
  {
   "cell_type": "code",
   "execution_count": 12,
   "id": "396daf09-6275-4f62-8864-18c9ca363e28",
   "metadata": {},
   "outputs": [
    {
     "data": {
      "text/plain": [
       "array([[0., 0., 0.],\n",
       "       [0., 0., 0.]])"
      ]
     },
     "execution_count": 12,
     "metadata": {},
     "output_type": "execute_result"
    }
   ],
   "source": [
    "zeros = np.zeros((2,3))\n",
    "zeros"
   ]
  },
  {
   "cell_type": "code",
   "execution_count": 13,
   "id": "563bd588-9e5e-48d5-b1aa-4d6d92d80a5a",
   "metadata": {},
   "outputs": [
    {
     "data": {
      "text/plain": [
       "array([0, 2, 4, 6, 8])"
      ]
     },
     "execution_count": 13,
     "metadata": {},
     "output_type": "execute_result"
    }
   ],
   "source": [
    "range = np.arange(0, 10, 2)\n",
    "range"
   ]
  },
  {
   "cell_type": "code",
   "execution_count": 14,
   "id": "3e8c2253-6ae2-4b36-9712-a1a8493ae882",
   "metadata": {},
   "outputs": [
    {
     "data": {
      "text/plain": [
       "array([[[150, 180, 181, 135, 198],\n",
       "        [197, 176, 163, 122, 109],\n",
       "        [137, 113, 139, 123, 105],\n",
       "        [187, 142, 189, 101, 141],\n",
       "        [110, 133, 181, 109, 182]],\n",
       "\n",
       "       [[160, 153, 169, 171, 183],\n",
       "        [126, 134, 181, 129, 139],\n",
       "        [173, 173, 165, 177, 163],\n",
       "        [101, 152, 183, 133, 182],\n",
       "        [185, 183, 121, 165, 105]],\n",
       "\n",
       "       [[178, 183, 114, 184, 145],\n",
       "        [168, 198, 168, 196, 156],\n",
       "        [168, 113, 125, 196, 199],\n",
       "        [107, 198, 130, 144, 126],\n",
       "        [193, 143, 166, 179, 191]],\n",
       "\n",
       "       [[123, 108, 160, 196, 125],\n",
       "        [144, 150, 111, 129, 162],\n",
       "        [129, 183, 193, 150, 159],\n",
       "        [151, 101, 146, 197, 160],\n",
       "        [111, 162, 191, 184, 195]],\n",
       "\n",
       "       [[119, 124, 100, 195, 185],\n",
       "        [137, 134, 154, 131, 131],\n",
       "        [163, 183, 193, 109, 131],\n",
       "        [175, 180, 190, 147, 178],\n",
       "        [195, 182, 124, 152, 166]]])"
      ]
     },
     "execution_count": 14,
     "metadata": {},
     "output_type": "execute_result"
    }
   ],
   "source": [
    "rand = np.random.randint(100, 200, size= (5,5,5))\n",
    "rand"
   ]
  },
  {
   "cell_type": "code",
   "execution_count": 15,
   "id": "be21f192-2b99-46a9-abfd-9968c085110d",
   "metadata": {},
   "outputs": [
    {
     "data": {
      "text/plain": [
       "array([[2, 4, 2],\n",
       "       [1, 2, 1],\n",
       "       [3, 1, 2],\n",
       "       [1, 2, 4],\n",
       "       [3, 4, 4]])"
      ]
     },
     "execution_count": 15,
     "metadata": {},
     "output_type": "execute_result"
    }
   ],
   "source": [
    "# rand.see is psudo-random give the same random value, making it reproducable\n",
    "np.random.seed(seed=99)\n",
    "\n",
    "rand_seed = np.random.randint(1, 5, size= (5,3))\n",
    "rand_seed"
   ]
  },
  {
   "cell_type": "code",
   "execution_count": 16,
   "id": "e3dd20ae-7754-4b30-ae36-3586c57683b7",
   "metadata": {},
   "outputs": [
    {
     "data": {
      "text/plain": [
       "array([1, 2, 3])"
      ]
     },
     "execution_count": 16,
     "metadata": {},
     "output_type": "execute_result"
    }
   ],
   "source": [
    "a1 = np.array([1,2,3,3])\n",
    "a1 = np.unique(a1)\n",
    "a1"
   ]
  },
  {
   "cell_type": "code",
   "execution_count": 17,
   "id": "de5487c6-d737-4419-9338-6b4d30571fd9",
   "metadata": {},
   "outputs": [
    {
     "data": {
      "text/plain": [
       "array([[[[1, 1, 0, 6, 4],\n",
       "         [7, 2, 0, 8, 8],\n",
       "         [4, 9, 7, 5, 4],\n",
       "         [9, 1, 9, 0, 5]],\n",
       "\n",
       "        [[9, 3, 3, 6, 2],\n",
       "         [5, 0, 5, 1, 2],\n",
       "         [1, 9, 1, 3, 8],\n",
       "         [8, 9, 2, 9, 8]],\n",
       "\n",
       "        [[0, 7, 3, 2, 0],\n",
       "         [6, 0, 2, 3, 2],\n",
       "         [8, 3, 5, 5, 9],\n",
       "         [4, 1, 4, 9, 7]]],\n",
       "\n",
       "\n",
       "       [[[6, 5, 7, 5, 0],\n",
       "         [3, 7, 9, 5, 7],\n",
       "         [7, 8, 8, 0, 2],\n",
       "         [3, 4, 0, 8, 0]],\n",
       "\n",
       "        [[9, 0, 8, 4, 1],\n",
       "         [0, 7, 9, 2, 7],\n",
       "         [6, 1, 4, 2, 6],\n",
       "         [8, 2, 2, 7, 2]],\n",
       "\n",
       "        [[3, 2, 6, 1, 6],\n",
       "         [3, 6, 7, 4, 4],\n",
       "         [9, 9, 2, 7, 9],\n",
       "         [5, 5, 1, 5, 0]]]])"
      ]
     },
     "execution_count": 17,
     "metadata": {},
     "output_type": "execute_result"
    }
   ],
   "source": [
    "a100 = np.random.randint(10, size=(2,3,4,5))\n",
    "a100"
   ]
  },
  {
   "cell_type": "code",
   "execution_count": 18,
   "id": "b0c3c491-5d37-4818-8662-8a0aeb7fbb6a",
   "metadata": {},
   "outputs": [
    {
     "data": {
      "text/plain": [
       "array([[[[1, 1, 0],\n",
       "         [7, 2, 0],\n",
       "         [4, 9, 7],\n",
       "         [9, 1, 9]],\n",
       "\n",
       "        [[9, 3, 3],\n",
       "         [5, 0, 5],\n",
       "         [1, 9, 1],\n",
       "         [8, 9, 2]],\n",
       "\n",
       "        [[0, 7, 3],\n",
       "         [6, 0, 2],\n",
       "         [8, 3, 5],\n",
       "         [4, 1, 4]]],\n",
       "\n",
       "\n",
       "       [[[6, 5, 7],\n",
       "         [3, 7, 9],\n",
       "         [7, 8, 8],\n",
       "         [3, 4, 0]],\n",
       "\n",
       "        [[9, 0, 8],\n",
       "         [0, 7, 9],\n",
       "         [6, 1, 4],\n",
       "         [8, 2, 2]],\n",
       "\n",
       "        [[3, 2, 6],\n",
       "         [3, 6, 7],\n",
       "         [9, 9, 2],\n",
       "         [5, 5, 1]]]])"
      ]
     },
     "execution_count": 18,
     "metadata": {},
     "output_type": "execute_result"
    }
   ],
   "source": [
    "# get the first 4 numbers of the inner most array\n",
    "a100[:2,:,:, :3]"
   ]
  },
  {
   "cell_type": "markdown",
   "id": "5f33cc5b-7a21-4c98-83f6-0e42abc6a2b4",
   "metadata": {},
   "source": [
    "# Maniuplating arrays"
   ]
  },
  {
   "cell_type": "code",
   "execution_count": 19,
   "id": "9ea47d1e-e224-4881-abe1-c786611c4a8f",
   "metadata": {},
   "outputs": [
    {
     "data": {
      "text/plain": [
       "array([1., 1., 1.])"
      ]
     },
     "execution_count": 19,
     "metadata": {},
     "output_type": "execute_result"
    }
   ],
   "source": [
    "ones = np.ones(3)\n",
    "ones"
   ]
  },
  {
   "cell_type": "code",
   "execution_count": 20,
   "id": "1c94fdbc-a1ce-4c53-8bd5-49947bc27b66",
   "metadata": {},
   "outputs": [
    {
     "data": {
      "text/plain": [
       "array([1., 1., 1.])"
      ]
     },
     "execution_count": 20,
     "metadata": {},
     "output_type": "execute_result"
    }
   ],
   "source": [
    "ones = np.ones(3)\n",
    "ones"
   ]
  },
  {
   "cell_type": "code",
   "execution_count": 21,
   "id": "94f53f09-183d-4d2b-89de-5844ef029dfe",
   "metadata": {},
   "outputs": [
    {
     "data": {
      "text/plain": [
       "array([[1, 2, 1]])"
      ]
     },
     "execution_count": 21,
     "metadata": {},
     "output_type": "execute_result"
    }
   ],
   "source": [
    "rands = np.random.randint(1,3, size=(1,3))\n",
    "rands"
   ]
  },
  {
   "cell_type": "code",
   "execution_count": 22,
   "id": "fc42cc79-b0fe-4c9f-8c4c-a6d85c792de5",
   "metadata": {},
   "outputs": [
    {
     "data": {
      "text/plain": [
       "array([[2., 3., 2.]])"
      ]
     },
     "execution_count": 22,
     "metadata": {},
     "output_type": "execute_result"
    }
   ],
   "source": [
    "np.add(ones, rands)"
   ]
  },
  {
   "cell_type": "code",
   "execution_count": 23,
   "id": "5d4903c1-f472-4185-966f-9e005a8c6b4a",
   "metadata": {},
   "outputs": [
    {
     "data": {
      "text/plain": [
       "array([[2., 3., 2.]])"
      ]
     },
     "execution_count": 23,
     "metadata": {},
     "output_type": "execute_result"
    }
   ],
   "source": [
    "ones + rands"
   ]
  },
  {
   "cell_type": "code",
   "execution_count": 25,
   "id": "7267acbf-f2bb-410a-a014-f4ab41de9e57",
   "metadata": {},
   "outputs": [
    {
     "data": {
      "text/plain": [
       "array([[ 0., -1.,  0.]])"
      ]
     },
     "execution_count": 25,
     "metadata": {},
     "output_type": "execute_result"
    }
   ],
   "source": [
    "ones - rands"
   ]
  },
  {
   "cell_type": "code",
   "execution_count": 31,
   "id": "5fb88d09-5113-4a6c-afcc-f3214daa34ed",
   "metadata": {},
   "outputs": [
    {
     "data": {
      "text/plain": [
       "4"
      ]
     },
     "execution_count": 31,
     "metadata": {},
     "output_type": "execute_result"
    }
   ],
   "source": [
    "np.sum(rands)\n",
    "# max, min, std, variance, "
   ]
  },
  {
   "cell_type": "code",
   "execution_count": 30,
   "id": "46e7cff7-ccea-42ad-9809-04cd0189fbac",
   "metadata": {},
   "outputs": [
    {
     "name": "stdout",
     "output_type": "stream",
     "text": [
      "1.96 µs ± 23 ns per loop (mean ± std. dev. of 7 runs, 100,000 loops each)\n"
     ]
    }
   ],
   "source": [
    "%timeit np.sum(rands)"
   ]
  },
  {
   "cell_type": "markdown",
   "id": "eeceedfb-8ce1-41ca-a1a3-c345c873bc48",
   "metadata": {},
   "source": [
    "# mean and std"
   ]
  },
  {
   "cell_type": "code",
   "execution_count": 32,
   "id": "335a0251-1b4e-4ca5-90aa-a6f34c8e8f33",
   "metadata": {},
   "outputs": [],
   "source": [
    "high_var_array = np.array([1,100,200,300,4000,5000])\n",
    "low_var_array = np.array([1,2,3,4,5,6])\n"
   ]
  },
  {
   "cell_type": "code",
   "execution_count": 34,
   "id": "9f1b8309-fb0b-4df8-b05f-e02ae46f84d4",
   "metadata": {},
   "outputs": [
    {
     "data": {
      "text/plain": [
       "(4296133.472222221, 2.9166666666666665)"
      ]
     },
     "execution_count": 34,
     "metadata": {},
     "output_type": "execute_result"
    }
   ],
   "source": [
    "np.var(high_var_array) , np.var(low_var_array)"
   ]
  },
  {
   "cell_type": "code",
   "execution_count": 38,
   "id": "7dcda639-bef6-45ee-a717-5979142b1e8f",
   "metadata": {},
   "outputs": [
    {
     "data": {
      "text/plain": [
       "(2072.711623024829, 1.707825127659933)"
      ]
     },
     "execution_count": 38,
     "metadata": {},
     "output_type": "execute_result"
    }
   ],
   "source": [
    "np.std(high_var_array) , np.std(low_var_array)"
   ]
  },
  {
   "cell_type": "code",
   "execution_count": 40,
   "id": "14c73cb9-03f1-43bd-8ef3-4f740db3c5f0",
   "metadata": {},
   "outputs": [
    {
     "data": {
      "text/plain": [
       "(1600.1666666666667, 1.707825127659933)"
      ]
     },
     "execution_count": 40,
     "metadata": {},
     "output_type": "execute_result"
    }
   ],
   "source": [
    "np.mean(high_var_array), np.std(low_var_array)"
   ]
  },
  {
   "cell_type": "code",
   "execution_count": 45,
   "id": "ee40b121-514f-411a-bd80-4e0f1ab7065c",
   "metadata": {},
   "outputs": [
    {
     "data": {
      "text/plain": [
       "(array([4., 0., 0., 0., 0., 0., 0., 1., 0., 1.]),\n",
       " array([1.0000e+00, 5.0090e+02, 1.0008e+03, 1.5007e+03, 2.0006e+03,\n",
       "        2.5005e+03, 3.0004e+03, 3.5003e+03, 4.0002e+03, 4.5001e+03,\n",
       "        5.0000e+03]),\n",
       " <BarContainer object of 10 artists>)"
      ]
     },
     "execution_count": 45,
     "metadata": {},
     "output_type": "execute_result"
    },
    {
     "data": {
      "image/png": "[encoded data removed]",
      "text/plain": [
       "<Figure size 640x480 with 1 Axes>"
      ]
     },
     "metadata": {},
     "output_type": "display_data"
    }
   ],
   "source": [
    "# %matplotlib inline\n",
    "import matplotlib.pyplot as plt\n",
    "plt.hist(high_var_array)"
   ]
  },
  {
   "cell_type": "code",
   "execution_count": 47,
   "id": "9d5c511f-b72f-4cc9-abf1-5ca5cfa42f20",
   "metadata": {},
   "outputs": [
    {
     "data": {
      "text/plain": [
       "(array([1., 0., 1., 0., 1., 0., 1., 0., 1., 1.]),\n",
       " array([1. , 1.5, 2. , 2.5, 3. , 3.5, 4. , 4.5, 5. , 5.5, 6. ]),\n",
       " <BarContainer object of 10 artists>)"
      ]
     },
     "execution_count": 47,
     "metadata": {},
     "output_type": "execute_result"
    },
    {
     "data": {
      "image/png": "[encoded data removed]",
      "text/plain": [
       "<Figure size 640x480 with 1 Axes>"
      ]
     },
     "metadata": {},
     "output_type": "display_data"
    }
   ],
   "source": [
    "plt.hist(low_var_array)"
   ]
  },
  {
   "cell_type": "code",
   "execution_count": null,
   "id": "e932e90d-31be-488f-9b12-d290cd66cc7c",
   "metadata": {},
   "outputs": [],
   "source": []
  }
 ],
 "metadata": {
  "kernelspec": {
   "display_name": "Python 3 (ipykernel)",
   "language": "python",
   "name": "python3"
  },
  "language_info": {
   "codemirror_mode": {
    "name": "ipython",
    "version": 3
   },
   "file_extension": ".py",
   "mimetype": "text/x-python",
   "name": "python",
   "nbconvert_exporter": "python",
   "pygments_lexer": "ipython3",
   "version": "3.12.2"
  }
 },
 "nbformat": 4,
 "nbformat_minor": 5
}
