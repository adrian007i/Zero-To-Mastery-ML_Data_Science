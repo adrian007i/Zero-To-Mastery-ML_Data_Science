{
 "cells": [
  {
   "cell_type": "markdown",
   "id": "8381a318-97d6-44ac-ad68-fdf873348735",
   "metadata": {},
   "source": [
    "# working with images"
   ]
  },
  {
   "cell_type": "markdown",
   "id": "1d19a637-926c-437b-b74c-a22bd79d58ba",
   "metadata": {},
   "source": [
    "<img src=\"Alia.jpg\"/>"
   ]
  },
  {
   "cell_type": "code",
   "execution_count": 15,
   "id": "fd55be3d-48db-4a22-bbe7-121df346a8ef",
   "metadata": {},
   "outputs": [],
   "source": [
    "from matplotlib.image import imread"
   ]
  },
  {
   "cell_type": "code",
   "execution_count": 17,
   "id": "f442363c-5c45-447a-a9fc-c4959f4a0af6",
   "metadata": {},
   "outputs": [
    {
     "data": {
      "text/plain": [
       "array([[[ 99,  81, 163],\n",
       "        [100,  82, 164],\n",
       "        [100,  85, 166],\n",
       "        ...,\n",
       "        [ 90,  68, 176],\n",
       "        [ 87,  66, 171],\n",
       "        [ 48,  27, 130]],\n",
       "\n",
       "       [[102,  84, 166],\n",
       "        [100,  82, 164],\n",
       "        [ 98,  83, 164],\n",
       "        ...,\n",
       "        [ 90,  68, 176],\n",
       "        [ 87,  66, 171],\n",
       "        [ 48,  27, 130]],\n",
       "\n",
       "       [[104,  86, 168],\n",
       "        [ 96,  81, 162],\n",
       "        [ 94,  79, 160],\n",
       "        ...,\n",
       "        [ 91,  69, 177],\n",
       "        [ 87,  66, 171],\n",
       "        [ 49,  28, 131]],\n",
       "\n",
       "       ...,\n",
       "\n",
       "       [[  7,   6,  14],\n",
       "        [  5,   4,  12],\n",
       "        [  2,   1,   9],\n",
       "        ...,\n",
       "        [ 49,   2,  44],\n",
       "        [ 42,   0,  38],\n",
       "        [ 37,   0,  31]],\n",
       "\n",
       "       [[ 11,  10,  18],\n",
       "        [  8,   7,  15],\n",
       "        [  5,   4,  12],\n",
       "        ...,\n",
       "        [ 51,   4,  48],\n",
       "        [ 46,   1,  42],\n",
       "        [ 39,   0,  34]],\n",
       "\n",
       "       [[ 11,  10,  18],\n",
       "        [  8,   7,  15],\n",
       "        [  4,   3,  11],\n",
       "        ...,\n",
       "        [ 55,   6,  53],\n",
       "        [ 48,   3,  44],\n",
       "        [ 42,   0,  38]]], dtype=uint8)"
      ]
     },
     "execution_count": 17,
     "metadata": {},
     "output_type": "execute_result"
    }
   ],
   "source": [
    "alia = imread(\"Alia.jpg\")\n",
    "alia"
   ]
  },
  {
   "cell_type": "code",
   "execution_count": null,
   "id": "53338da5-dd0e-462b-b819-5d0dbf1b9c55",
   "metadata": {},
   "outputs": [],
   "source": []
  }
 ],
 "metadata": {
  "kernelspec": {
   "display_name": "Python 3 (ipykernel)",
   "language": "python",
   "name": "python3"
  },
  "language_info": {
   "codemirror_mode": {
    "name": "ipython",
    "version": 3
   },
   "file_extension": ".py",
   "mimetype": "text/x-python",
   "name": "python",
   "nbconvert_exporter": "python",
   "pygments_lexer": "ipython3",
   "version": "3.12.2"
  }
 },
 "nbformat": 4,
 "nbformat_minor": 5
}
